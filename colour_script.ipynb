{
 "cells": [
  {
   "cell_type": "code",
   "execution_count": null,
   "metadata": {},
   "outputs": [],
   "source": [
    "import numpy as np\n",
    "import matplotlib.pyplot as plt\n",
    "from astropy.io import fits\n",
    "import matplotlib.colors as mcolorsx\n",
    "import os\n",
    "import pandas as pd\n",
    "from astropy.io import fits\n",
    "\n",
    "from AstroColour.AstroColour import RGB\n",
    "\n",
    "%matplotlib widget"
   ]
  },
  {
   "cell_type": "code",
   "execution_count": null,
   "metadata": {},
   "outputs": [],
   "source": [
    "files = ['i', 'r', 'g']\n",
    "f_files = []\n",
    "\n",
    "for f in files:\n",
    "    file = f'/Users/zgl12/Python_Scripts/Image_Processing/ygp/2023ygp-0011_{f}_wcs.fits.gz'\n",
    "\n",
    "    hdu = fits.open(file)\n",
    "    image_data = hdu[0].data -500\n",
    "    hdu.close()\n",
    "\n",
    "    f_files.append(image_data)"
   ]
  },
  {
   "cell_type": "code",
   "execution_count": null,
   "metadata": {},
   "outputs": [],
   "source": [
    "plt.figure()\n",
    "plt.imshow(f_files[0], origin='lower', vmin = np.nanpercentile(f_files[0], 1), vmax = np.nanpercentile(f_files[0], 99), cmap= 'gray')\n",
    "plt.show()"
   ]
  },
  {
   "cell_type": "code",
   "execution_count": null,
   "metadata": {},
   "outputs": [],
   "source": [
    "rgb = RGB(f_files,\n",
    "          save = False, save_name = 'test', save_folder = '/Users/zgl12/', \n",
    "          epsf_plot=False, epsf = True,\n",
    "          bkg_plot = False, temp_save = True, run = True)\n",
    "# colour_image = rgb.plot()"
   ]
  },
  {
   "cell_type": "code",
   "execution_count": null,
   "metadata": {},
   "outputs": [],
   "source": [
    "calib_images = rgb.calib_images"
   ]
  },
  {
   "cell_type": "code",
   "execution_count": null,
   "metadata": {},
   "outputs": [],
   "source": [
    "colour = rgb.master_plot(calib_images, \n",
    "                         colours = ['red', 'green', 'blue'], \n",
    "                         intensities = [0.55, 1, 0.55], \n",
    "                         gamma = 1.2,\n",
    "                         norms = ['asinh', 'asinh', 'asinh'], \n",
    "                         uppers = [99, 99, 99], \n",
    "                         lowers = [5, 5, 5], \n",
    "                         interactive=True)"
   ]
  },
  {
   "cell_type": "code",
   "execution_count": null,
   "metadata": {},
   "outputs": [],
   "source": [
    "colour.shape"
   ]
  },
  {
   "cell_type": "code",
   "execution_count": null,
   "metadata": {},
   "outputs": [],
   "source": []
  },
  {
   "cell_type": "code",
   "execution_count": null,
   "metadata": {},
   "outputs": [],
   "source": [
    "# rgb = RGB(f_files, \n",
    "#           colours = ['red', 'green', 'blue'], intensities = [0.55, 1, 0.6], \n",
    "#           uppers = [99, 99, 99], lowers = [5, 5, 5], \n",
    "#           save = False, save_name = 'test', save_folder = '/Users/zgl12/', \n",
    "#           gamma = 1, norm = 'asinh', min_separation = 29, star_size = 5, epsf_plot=False,)\n",
    "# colour_image = rgb.plot()"
   ]
  },
  {
   "cell_type": "code",
   "execution_count": null,
   "metadata": {},
   "outputs": [],
   "source": [
    "# rgb = RGB(f_files, \n",
    "#           colours = ['red', 'green', 'blue'], intensities = [0.55, 1, 0.6], \n",
    "#           uppers = [99, 99, 99], lowers = [5, 5, 5], \n",
    "#           save = False, save_name = 'test', save_folder = '/Users/zgl12/', \n",
    "#           gamma = 0.5, norm = 'asinh', min_separation = 29, star_size = 5, epsf_plot=False,)\n",
    "# colour_image = rgb.plot()"
   ]
  },
  {
   "cell_type": "code",
   "execution_count": null,
   "metadata": {},
   "outputs": [],
   "source": []
  }
 ],
 "metadata": {
  "kernelspec": {
   "display_name": "base",
   "language": "python",
   "name": "python3"
  },
  "language_info": {
   "codemirror_mode": {
    "name": "ipython",
    "version": 3
   },
   "file_extension": ".py",
   "mimetype": "text/x-python",
   "name": "python",
   "nbconvert_exporter": "python",
   "pygments_lexer": "ipython3",
   "version": "3.11.5"
  }
 },
 "nbformat": 4,
 "nbformat_minor": 2
}
