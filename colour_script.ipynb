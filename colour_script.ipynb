{
 "cells": [
  {
   "cell_type": "code",
   "execution_count": 1,
   "metadata": {},
   "outputs": [],
   "source": [
    "import numpy as np\n",
    "import matplotlib.pyplot as plt\n",
    "from astropy.io import fits\n",
    "import matplotlib.colors as mcolors\n",
    "import os\n",
    "import pandas as pd\n",
    "from astropy.io import fits\n",
    "from scipy.signal import fftconvolve, convolve2d\n",
    "\n",
    "from AstroColour import RGB\n",
    "\n",
    "\n",
    "%matplotlib widget"
   ]
  },
  {
   "cell_type": "code",
   "execution_count": null,
   "metadata": {},
   "outputs": [],
   "source": [
    "files = ['i', 'r', 'g']\n",
    "f_files = []\n",
    "\n",
    "for f in files:\n",
    "    file = f'/Users/zgl12/Python_Scripts/Image_Processing/ygp/2023ygp-0011_{f}_wcs.fits.gz'\n",
    "\n",
    "    hdu = fits.open(file)\n",
    "    image_data = hdu[0].data -500\n",
    "    hdu.close()\n",
    "\n",
    "    f_files.append(image_data)"
   ]
  },
  {
   "cell_type": "code",
   "execution_count": null,
   "metadata": {},
   "outputs": [],
   "source": [
    "rgb = RGB(f_files[0], f_files[1], f_files[2], \n",
    "colour1 = 'red', colour2 = 'green', colour3 = 'blue', \n",
    "intensity1 = 0.55, intensity2 =1, intensity3 = 0.6, \n",
    "upper1 = 99, lower1 = 5, upper2 = 99, lower2 = 5, upper3 = 99, lower3 = 5)\n",
    "colour = rgb.colour()"
   ]
  },
  {
   "cell_type": "code",
   "execution_count": null,
   "metadata": {},
   "outputs": [],
   "source": []
  }
 ],
 "metadata": {
  "kernelspec": {
   "display_name": "base",
   "language": "python",
   "name": "python3"
  },
  "language_info": {
   "codemirror_mode": {
    "name": "ipython",
    "version": 3
   },
   "file_extension": ".py",
   "mimetype": "text/x-python",
   "name": "python",
   "nbconvert_exporter": "python",
   "pygments_lexer": "ipython3",
   "version": "3.11.5"
  }
 },
 "nbformat": 4,
 "nbformat_minor": 2
}
